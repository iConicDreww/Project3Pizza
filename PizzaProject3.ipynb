{
  "nbformat": 4,
  "nbformat_minor": 0,
  "metadata": {
    "colab": {
      "provenance": []
    },
    "kernelspec": {
      "name": "python3",
      "display_name": "Python 3"
    },
    "language_info": {
      "name": "python"
    }
  },
  "cells": [
    {
      "cell_type": "code",
      "execution_count": 3,
      "metadata": {
        "colab": {
          "base_uri": "https://localhost:8080/",
          "height": 206
        },
        "id": "hd6MIzbVw7TS",
        "outputId": "be4317ff-33cd-4896-e9eb-7546a0bd7e04",
        "collapsed": true
      },
      "outputs": [
        {
          "output_type": "execute_result",
          "data": {
            "text/plain": [
              "         Date      Time  StoreID  CustomerID  OrderID Product Name    Size  \\\n",
              "0  2024-12-05  02:56:32        0           0        0  BBQ Chicken  medium   \n",
              "1  2024-12-05  02:56:32        0           0        0   Margherita  medium   \n",
              "2  2024-12-05  02:56:32        0           0        1   Margherita  medium   \n",
              "3  2024-12-05  02:56:32        0           0        1     Hawaiian   large   \n",
              "4  2024-12-05  02:56:32        0           0        1      Supreme   large   \n",
              "\n",
              "           Crust  \n",
              "0          thick  \n",
              "1           thin  \n",
              "2           thin  \n",
              "3  stuffed crust  \n",
              "4           thin  "
            ],
            "text/html": [
              "\n",
              "  <div id=\"df-f27b1383-31d1-47d9-aaa4-e345364a77e5\" class=\"colab-df-container\">\n",
              "    <div>\n",
              "<style scoped>\n",
              "    .dataframe tbody tr th:only-of-type {\n",
              "        vertical-align: middle;\n",
              "    }\n",
              "\n",
              "    .dataframe tbody tr th {\n",
              "        vertical-align: top;\n",
              "    }\n",
              "\n",
              "    .dataframe thead th {\n",
              "        text-align: right;\n",
              "    }\n",
              "</style>\n",
              "<table border=\"1\" class=\"dataframe\">\n",
              "  <thead>\n",
              "    <tr style=\"text-align: right;\">\n",
              "      <th></th>\n",
              "      <th>Date</th>\n",
              "      <th>Time</th>\n",
              "      <th>StoreID</th>\n",
              "      <th>CustomerID</th>\n",
              "      <th>OrderID</th>\n",
              "      <th>Product Name</th>\n",
              "      <th>Size</th>\n",
              "      <th>Crust</th>\n",
              "    </tr>\n",
              "  </thead>\n",
              "  <tbody>\n",
              "    <tr>\n",
              "      <th>0</th>\n",
              "      <td>2024-12-05</td>\n",
              "      <td>02:56:32</td>\n",
              "      <td>0</td>\n",
              "      <td>0</td>\n",
              "      <td>0</td>\n",
              "      <td>BBQ Chicken</td>\n",
              "      <td>medium</td>\n",
              "      <td>thick</td>\n",
              "    </tr>\n",
              "    <tr>\n",
              "      <th>1</th>\n",
              "      <td>2024-12-05</td>\n",
              "      <td>02:56:32</td>\n",
              "      <td>0</td>\n",
              "      <td>0</td>\n",
              "      <td>0</td>\n",
              "      <td>Margherita</td>\n",
              "      <td>medium</td>\n",
              "      <td>thin</td>\n",
              "    </tr>\n",
              "    <tr>\n",
              "      <th>2</th>\n",
              "      <td>2024-12-05</td>\n",
              "      <td>02:56:32</td>\n",
              "      <td>0</td>\n",
              "      <td>0</td>\n",
              "      <td>1</td>\n",
              "      <td>Margherita</td>\n",
              "      <td>medium</td>\n",
              "      <td>thin</td>\n",
              "    </tr>\n",
              "    <tr>\n",
              "      <th>3</th>\n",
              "      <td>2024-12-05</td>\n",
              "      <td>02:56:32</td>\n",
              "      <td>0</td>\n",
              "      <td>0</td>\n",
              "      <td>1</td>\n",
              "      <td>Hawaiian</td>\n",
              "      <td>large</td>\n",
              "      <td>stuffed crust</td>\n",
              "    </tr>\n",
              "    <tr>\n",
              "      <th>4</th>\n",
              "      <td>2024-12-05</td>\n",
              "      <td>02:56:32</td>\n",
              "      <td>0</td>\n",
              "      <td>0</td>\n",
              "      <td>1</td>\n",
              "      <td>Supreme</td>\n",
              "      <td>large</td>\n",
              "      <td>thin</td>\n",
              "    </tr>\n",
              "  </tbody>\n",
              "</table>\n",
              "</div>\n",
              "    <div class=\"colab-df-buttons\">\n",
              "\n",
              "  <div class=\"colab-df-container\">\n",
              "    <button class=\"colab-df-convert\" onclick=\"convertToInteractive('df-f27b1383-31d1-47d9-aaa4-e345364a77e5')\"\n",
              "            title=\"Convert this dataframe to an interactive table.\"\n",
              "            style=\"display:none;\">\n",
              "\n",
              "  <svg xmlns=\"http://www.w3.org/2000/svg\" height=\"24px\" viewBox=\"0 -960 960 960\">\n",
              "    <path d=\"M120-120v-720h720v720H120Zm60-500h600v-160H180v160Zm220 220h160v-160H400v160Zm0 220h160v-160H400v160ZM180-400h160v-160H180v160Zm440 0h160v-160H620v160ZM180-180h160v-160H180v160Zm440 0h160v-160H620v160Z\"/>\n",
              "  </svg>\n",
              "    </button>\n",
              "\n",
              "  <style>\n",
              "    .colab-df-container {\n",
              "      display:flex;\n",
              "      gap: 12px;\n",
              "    }\n",
              "\n",
              "    .colab-df-convert {\n",
              "      background-color: #E8F0FE;\n",
              "      border: none;\n",
              "      border-radius: 50%;\n",
              "      cursor: pointer;\n",
              "      display: none;\n",
              "      fill: #1967D2;\n",
              "      height: 32px;\n",
              "      padding: 0 0 0 0;\n",
              "      width: 32px;\n",
              "    }\n",
              "\n",
              "    .colab-df-convert:hover {\n",
              "      background-color: #E2EBFA;\n",
              "      box-shadow: 0px 1px 2px rgba(60, 64, 67, 0.3), 0px 1px 3px 1px rgba(60, 64, 67, 0.15);\n",
              "      fill: #174EA6;\n",
              "    }\n",
              "\n",
              "    .colab-df-buttons div {\n",
              "      margin-bottom: 4px;\n",
              "    }\n",
              "\n",
              "    [theme=dark] .colab-df-convert {\n",
              "      background-color: #3B4455;\n",
              "      fill: #D2E3FC;\n",
              "    }\n",
              "\n",
              "    [theme=dark] .colab-df-convert:hover {\n",
              "      background-color: #434B5C;\n",
              "      box-shadow: 0px 1px 3px 1px rgba(0, 0, 0, 0.15);\n",
              "      filter: drop-shadow(0px 1px 2px rgba(0, 0, 0, 0.3));\n",
              "      fill: #FFFFFF;\n",
              "    }\n",
              "  </style>\n",
              "\n",
              "    <script>\n",
              "      const buttonEl =\n",
              "        document.querySelector('#df-f27b1383-31d1-47d9-aaa4-e345364a77e5 button.colab-df-convert');\n",
              "      buttonEl.style.display =\n",
              "        google.colab.kernel.accessAllowed ? 'block' : 'none';\n",
              "\n",
              "      async function convertToInteractive(key) {\n",
              "        const element = document.querySelector('#df-f27b1383-31d1-47d9-aaa4-e345364a77e5');\n",
              "        const dataTable =\n",
              "          await google.colab.kernel.invokeFunction('convertToInteractive',\n",
              "                                                    [key], {});\n",
              "        if (!dataTable) return;\n",
              "\n",
              "        const docLinkHtml = 'Like what you see? Visit the ' +\n",
              "          '<a target=\"_blank\" href=https://colab.research.google.com/notebooks/data_table.ipynb>data table notebook</a>'\n",
              "          + ' to learn more about interactive tables.';\n",
              "        element.innerHTML = '';\n",
              "        dataTable['output_type'] = 'display_data';\n",
              "        await google.colab.output.renderOutput(dataTable, element);\n",
              "        const docLink = document.createElement('div');\n",
              "        docLink.innerHTML = docLinkHtml;\n",
              "        element.appendChild(docLink);\n",
              "      }\n",
              "    </script>\n",
              "  </div>\n",
              "\n",
              "\n",
              "<div id=\"df-d12289fa-e708-4b62-8cc1-d5c92bb4ac89\">\n",
              "  <button class=\"colab-df-quickchart\" onclick=\"quickchart('df-d12289fa-e708-4b62-8cc1-d5c92bb4ac89')\"\n",
              "            title=\"Suggest charts\"\n",
              "            style=\"display:none;\">\n",
              "\n",
              "<svg xmlns=\"http://www.w3.org/2000/svg\" height=\"24px\"viewBox=\"0 0 24 24\"\n",
              "     width=\"24px\">\n",
              "    <g>\n",
              "        <path d=\"M19 3H5c-1.1 0-2 .9-2 2v14c0 1.1.9 2 2 2h14c1.1 0 2-.9 2-2V5c0-1.1-.9-2-2-2zM9 17H7v-7h2v7zm4 0h-2V7h2v10zm4 0h-2v-4h2v4z\"/>\n",
              "    </g>\n",
              "</svg>\n",
              "  </button>\n",
              "\n",
              "<style>\n",
              "  .colab-df-quickchart {\n",
              "      --bg-color: #E8F0FE;\n",
              "      --fill-color: #1967D2;\n",
              "      --hover-bg-color: #E2EBFA;\n",
              "      --hover-fill-color: #174EA6;\n",
              "      --disabled-fill-color: #AAA;\n",
              "      --disabled-bg-color: #DDD;\n",
              "  }\n",
              "\n",
              "  [theme=dark] .colab-df-quickchart {\n",
              "      --bg-color: #3B4455;\n",
              "      --fill-color: #D2E3FC;\n",
              "      --hover-bg-color: #434B5C;\n",
              "      --hover-fill-color: #FFFFFF;\n",
              "      --disabled-bg-color: #3B4455;\n",
              "      --disabled-fill-color: #666;\n",
              "  }\n",
              "\n",
              "  .colab-df-quickchart {\n",
              "    background-color: var(--bg-color);\n",
              "    border: none;\n",
              "    border-radius: 50%;\n",
              "    cursor: pointer;\n",
              "    display: none;\n",
              "    fill: var(--fill-color);\n",
              "    height: 32px;\n",
              "    padding: 0;\n",
              "    width: 32px;\n",
              "  }\n",
              "\n",
              "  .colab-df-quickchart:hover {\n",
              "    background-color: var(--hover-bg-color);\n",
              "    box-shadow: 0 1px 2px rgba(60, 64, 67, 0.3), 0 1px 3px 1px rgba(60, 64, 67, 0.15);\n",
              "    fill: var(--button-hover-fill-color);\n",
              "  }\n",
              "\n",
              "  .colab-df-quickchart-complete:disabled,\n",
              "  .colab-df-quickchart-complete:disabled:hover {\n",
              "    background-color: var(--disabled-bg-color);\n",
              "    fill: var(--disabled-fill-color);\n",
              "    box-shadow: none;\n",
              "  }\n",
              "\n",
              "  .colab-df-spinner {\n",
              "    border: 2px solid var(--fill-color);\n",
              "    border-color: transparent;\n",
              "    border-bottom-color: var(--fill-color);\n",
              "    animation:\n",
              "      spin 1s steps(1) infinite;\n",
              "  }\n",
              "\n",
              "  @keyframes spin {\n",
              "    0% {\n",
              "      border-color: transparent;\n",
              "      border-bottom-color: var(--fill-color);\n",
              "      border-left-color: var(--fill-color);\n",
              "    }\n",
              "    20% {\n",
              "      border-color: transparent;\n",
              "      border-left-color: var(--fill-color);\n",
              "      border-top-color: var(--fill-color);\n",
              "    }\n",
              "    30% {\n",
              "      border-color: transparent;\n",
              "      border-left-color: var(--fill-color);\n",
              "      border-top-color: var(--fill-color);\n",
              "      border-right-color: var(--fill-color);\n",
              "    }\n",
              "    40% {\n",
              "      border-color: transparent;\n",
              "      border-right-color: var(--fill-color);\n",
              "      border-top-color: var(--fill-color);\n",
              "    }\n",
              "    60% {\n",
              "      border-color: transparent;\n",
              "      border-right-color: var(--fill-color);\n",
              "    }\n",
              "    80% {\n",
              "      border-color: transparent;\n",
              "      border-right-color: var(--fill-color);\n",
              "      border-bottom-color: var(--fill-color);\n",
              "    }\n",
              "    90% {\n",
              "      border-color: transparent;\n",
              "      border-bottom-color: var(--fill-color);\n",
              "    }\n",
              "  }\n",
              "</style>\n",
              "\n",
              "  <script>\n",
              "    async function quickchart(key) {\n",
              "      const quickchartButtonEl =\n",
              "        document.querySelector('#' + key + ' button');\n",
              "      quickchartButtonEl.disabled = true;  // To prevent multiple clicks.\n",
              "      quickchartButtonEl.classList.add('colab-df-spinner');\n",
              "      try {\n",
              "        const charts = await google.colab.kernel.invokeFunction(\n",
              "            'suggestCharts', [key], {});\n",
              "      } catch (error) {\n",
              "        console.error('Error during call to suggestCharts:', error);\n",
              "      }\n",
              "      quickchartButtonEl.classList.remove('colab-df-spinner');\n",
              "      quickchartButtonEl.classList.add('colab-df-quickchart-complete');\n",
              "    }\n",
              "    (() => {\n",
              "      let quickchartButtonEl =\n",
              "        document.querySelector('#df-d12289fa-e708-4b62-8cc1-d5c92bb4ac89 button');\n",
              "      quickchartButtonEl.style.display =\n",
              "        google.colab.kernel.accessAllowed ? 'block' : 'none';\n",
              "    })();\n",
              "  </script>\n",
              "</div>\n",
              "\n",
              "    </div>\n",
              "  </div>\n"
            ],
            "application/vnd.google.colaboratory.intrinsic+json": {
              "type": "dataframe",
              "variable_name": "sales_data",
              "summary": "{\n  \"name\": \"sales_data\",\n  \"rows\": 8997,\n  \"fields\": [\n    {\n      \"column\": \"Date\",\n      \"properties\": {\n        \"dtype\": \"object\",\n        \"num_unique_values\": 1,\n        \"samples\": [\n          \"2024-12-05\"\n        ],\n        \"semantic_type\": \"\",\n        \"description\": \"\"\n      }\n    },\n    {\n      \"column\": \"Time\",\n      \"properties\": {\n        \"dtype\": \"object\",\n        \"num_unique_values\": 1,\n        \"samples\": [\n          \"02:56:32\"\n        ],\n        \"semantic_type\": \"\",\n        \"description\": \"\"\n      }\n    },\n    {\n      \"column\": \"StoreID\",\n      \"properties\": {\n        \"dtype\": \"number\",\n        \"std\": 29,\n        \"min\": 0,\n        \"max\": 99,\n        \"num_unique_values\": 100,\n        \"samples\": [\n          83\n        ],\n        \"semantic_type\": \"\",\n        \"description\": \"\"\n      }\n    },\n    {\n      \"column\": \"CustomerID\",\n      \"properties\": {\n        \"dtype\": \"number\",\n        \"std\": 2,\n        \"min\": 0,\n        \"max\": 9,\n        \"num_unique_values\": 10,\n        \"samples\": [\n          8\n        ],\n        \"semantic_type\": \"\",\n        \"description\": \"\"\n      }\n    },\n    {\n      \"column\": \"OrderID\",\n      \"properties\": {\n        \"dtype\": \"number\",\n        \"std\": 0,\n        \"min\": 0,\n        \"max\": 2,\n        \"num_unique_values\": 3,\n        \"samples\": [\n          0\n        ],\n        \"semantic_type\": \"\",\n        \"description\": \"\"\n      }\n    },\n    {\n      \"column\": \"Product Name\",\n      \"properties\": {\n        \"dtype\": \"category\",\n        \"num_unique_values\": 8,\n        \"samples\": [\n          \"Margherita\"\n        ],\n        \"semantic_type\": \"\",\n        \"description\": \"\"\n      }\n    },\n    {\n      \"column\": \"Size\",\n      \"properties\": {\n        \"dtype\": \"category\",\n        \"num_unique_values\": 3,\n        \"samples\": [\n          \"medium\"\n        ],\n        \"semantic_type\": \"\",\n        \"description\": \"\"\n      }\n    },\n    {\n      \"column\": \"Crust\",\n      \"properties\": {\n        \"dtype\": \"category\",\n        \"num_unique_values\": 3,\n        \"samples\": [\n          \"thick\"\n        ],\n        \"semantic_type\": \"\",\n        \"description\": \"\"\n      }\n    }\n  ]\n}"
            }
          },
          "metadata": {},
          "execution_count": 3
        }
      ],
      "source": [
        "import pandas as pd\n",
        "\n",
        "# Load the sales data\n",
        "sales_data = pd.read_csv('sales_data.csv')\n",
        "\n",
        "# Display the first few rows of the dataframe\n",
        "sales_data.head()"
      ]
    },
    {
      "cell_type": "code",
      "source": [
        "# Count the occurrences of each product\n",
        "product_counts = sales_data['Product Name'].value_counts()\n",
        "\n",
        "# Display the most prevalent products\n",
        "print(product_counts.head())"
      ],
      "metadata": {
        "colab": {
          "base_uri": "https://localhost:8080/"
        },
        "id": "jcD1nIPPxgVV",
        "outputId": "76412cfc-6388-46fb-d867-a49532fb4b7a",
        "collapsed": true
      },
      "execution_count": 12,
      "outputs": [
        {
          "output_type": "stream",
          "name": "stdout",
          "text": [
            "Product Name\n",
            "Veggie         1176\n",
            "Pepperoni      1143\n",
            "Margherita     1136\n",
            "Meat Lovers    1124\n",
            "Hawaiian       1117\n",
            "Name: count, dtype: int64\n"
          ]
        }
      ]
    },
    {
      "cell_type": "code",
      "source": [
        "# Define a large basket as having more than a certain number of items\n",
        "large_basket_threshold = 5\n",
        "\n",
        "# Group by CustomerID and count the number of items in each basket\n",
        "basket_sizes = sales_data.groupby('CustomerID').size()\n",
        "\n",
        "# Count the number of large baskets\n",
        "large_basket_counts = basket_sizes[basket_sizes > large_basket_threshold].count()\n",
        "\n",
        "# Display the frequency of large buyers\n",
        "print(large_basket_counts)"
      ],
      "metadata": {
        "id": "gnBYKjGNyJ87",
        "outputId": "5e8c52a0-0a78-4761-9c69-c92f8ee3cb64",
        "colab": {
          "base_uri": "https://localhost:8080/"
        }
      },
      "execution_count": 5,
      "outputs": [
        {
          "output_type": "stream",
          "name": "stdout",
          "text": [
            "10\n"
          ]
        }
      ]
    },
    {
      "cell_type": "code",
      "source": [
        "# Group by StoreID and count the number of large baskets in each store\n",
        "large_basket_stores = sales_data[sales_data['CustomerID'].isin(basket_sizes[basket_sizes > large_basket_threshold].index)]\n",
        "store_large_basket_counts = large_basket_stores['StoreID'].value_counts()\n",
        "\n",
        "# Display the stores with large-basket buyers\n",
        "print(store_large_basket_counts)"
      ],
      "metadata": {
        "id": "vEuhOt1pyLWj",
        "outputId": "09cb6dfa-68bf-439d-fa3a-09ea65590dbb",
        "colab": {
          "base_uri": "https://localhost:8080/"
        },
        "collapsed": true
      },
      "execution_count": 6,
      "outputs": [
        {
          "output_type": "stream",
          "name": "stdout",
          "text": [
            "StoreID\n",
            "7     107\n",
            "52    107\n",
            "93    105\n",
            "61    105\n",
            "77    104\n",
            "     ... \n",
            "44     75\n",
            "65     75\n",
            "8      75\n",
            "76     74\n",
            "20     70\n",
            "Name: count, Length: 100, dtype: int64\n"
          ]
        }
      ]
    },
    {
      "cell_type": "code",
      "source": [
        "import matplotlib.pyplot as plt\n",
        "\n",
        "# Plot the top stores with large-basket buyers\n",
        "store_large_basket_counts.head(10).plot(kind='bar')\n",
        "plt.title('Top Stores with Large-Basket Buyers')\n",
        "plt.xlabel('StoreID')\n",
        "plt.ylabel('Number of Large Baskets')\n",
        "plt.show()"
      ],
      "metadata": {
        "id": "uvkcvQUdyPFP",
        "outputId": "fa27fd00-7b3f-43bd-d6c9-0dafe36e725d",
        "colab": {
          "base_uri": "https://localhost:8080/",
          "height": 475
        },
        "collapsed": true
      },
      "execution_count": 7,
      "outputs": [
        {
          "output_type": "display_data",
          "data": {
            "text/plain": [
              "<Figure size 640x480 with 1 Axes>"
            ],
            "image/png": "[encoded data removed]"
          },
          "metadata": {}
        }
      ]
    },
    {
      "cell_type": "code",
      "source": [
        "# Get the products in large baskets\n",
        "large_basket_products = large_basket_stores['Product Name'].value_counts()\n",
        "\n",
        "# Display the top-N products\n",
        "top_n = 10\n",
        "print(large_basket_products.head(top_n))"
      ],
      "metadata": {
        "colab": {
          "base_uri": "https://localhost:8080/"
        },
        "id": "2Lyq30NWySPB",
        "outputId": "5c9d197b-836b-4dd0-cfb1-6961eca27515",
        "collapsed": true
      },
      "execution_count": 8,
      "outputs": [
        {
          "output_type": "stream",
          "name": "stdout",
          "text": [
            "Product Name\n",
            "Veggie         1176\n",
            "Pepperoni      1143\n",
            "Margherita     1136\n",
            "Meat Lovers    1124\n",
            "Hawaiian       1117\n",
            "BBQ Chicken    1107\n",
            "Supreme        1097\n",
            "Cheese         1097\n",
            "Name: count, dtype: int64\n"
          ]
        }
      ]
    },
    {
      "cell_type": "code",
      "source": [
        "# Group by CustomerID and get the average basket makeup\n",
        "basket_makeup = sales_data.groupby('CustomerID')['Product Name'].apply(lambda x: x.value_counts(normalize=True))\n",
        "\n",
        "# Display the average categorical makeup of baskets\n",
        "print(basket_makeup.head())"
      ],
      "metadata": {
        "id": "F6C__WUbyWWY",
        "outputId": "3d0173c1-12bd-4290-d6b1-4b7f34b55338",
        "colab": {
          "base_uri": "https://localhost:8080/"
        },
        "collapsed": true
      },
      "execution_count": 9,
      "outputs": [
        {
          "output_type": "stream",
          "name": "stdout",
          "text": [
            "CustomerID             \n",
            "0           Pepperoni      0.148649\n",
            "            Veggie         0.137387\n",
            "            Cheese         0.131757\n",
            "            Hawaiian       0.130631\n",
            "            Meat Lovers    0.120495\n",
            "Name: Product Name, dtype: float64\n"
          ]
        }
      ]
    },
    {
      "cell_type": "code",
      "source": [
        "# Plot the categorical makeup of baskets\n",
        "basket_makeup_df = basket_makeup.unstack().mean().sort_values(ascending=False)\n",
        "basket_makeup_df.plot(kind='bar')\n",
        "plt.title('Average Categorical Makeup of Baskets')\n",
        "plt.xlabel('Product Name')\n",
        "plt.ylabel('Average Proportion in Basket')\n",
        "plt.show()"
      ],
      "metadata": {
        "id": "sit_zquyyY6p",
        "outputId": "d6135b38-5e2b-4c54-b61b-7ec8930c0bd1",
        "colab": {
          "base_uri": "https://localhost:8080/",
          "height": 547
        },
        "collapsed": true
      },
      "execution_count": 10,
      "outputs": [
        {
          "output_type": "display_data",
          "data": {
            "text/plain": [
              "<Figure size 640x480 with 1 Axes>"
            ],
            "image/png": "[encoded data removed]"
          },
          "metadata": {}
        }
      ]
    },
    {
      "cell_type": "markdown",
      "source": [
        "# **PROJECT #3 Below here**"
      ],
      "metadata": {
        "id": "fbGCRXPpbhvy"
      }
    },
    {
      "cell_type": "markdown",
      "source": [
        "1. Analysis of Product Occurrences\n"
      ],
      "metadata": {
        "id": "J7yMnqB9cEU1"
      }
    },
    {
      "cell_type": "code",
      "source": [
        "# Count the occurrences of each product (PROJECT 3)\n",
        "product_counts = sales_data['Product Name'].value_counts()\n",
        "\n",
        "# Display the most prevalent products\n",
        "print(\"Most Prevalent Products:\")\n",
        "print(product_counts.head())"
      ],
      "metadata": {
        "colab": {
          "base_uri": "https://localhost:8080/"
        },
        "id": "8eOhekiQXJQE",
        "outputId": "af5ea6d9-8bef-4af7-bb00-273a8474f322"
      },
      "execution_count": 11,
      "outputs": [
        {
          "output_type": "stream",
          "name": "stdout",
          "text": [
            "Most Prevalent Products:\n",
            "Product Name\n",
            "Veggie         1176\n",
            "Pepperoni      1143\n",
            "Margherita     1136\n",
            "Meat Lovers    1124\n",
            "Hawaiian       1117\n",
            "Name: count, dtype: int64\n"
          ]
        }
      ]
    },
    {
      "cell_type": "markdown",
      "source": [
        "2. Analysis of Large Baskets"
      ],
      "metadata": {
        "id": "J7hXAiCOcR5i"
      }
    },
    {
      "cell_type": "code",
      "source": [
        "# Define a large basket as having more than a certain number of items (PROJECT 3)\n",
        "large_basket_threshold = 5\n",
        "\n",
        "# Group by CustomerID and count the number of items in each basket\n",
        "basket_sizes = sales_data.groupby('CustomerID').size()\n",
        "\n",
        "# Count the number of large baskets\n",
        "large_basket_counts = basket_sizes[basket_sizes > large_basket_threshold].count()\n",
        "\n",
        "# Display the frequency of large buyers\n",
        "print(\"Number of Large Baskets:\")\n",
        "print(large_basket_counts)"
      ],
      "metadata": {
        "colab": {
          "base_uri": "https://localhost:8080/"
        },
        "id": "fVabkKGJYCCT",
        "outputId": "66e23250-e9a7-4729-fcf7-52c6689e204d"
      },
      "execution_count": 13,
      "outputs": [
        {
          "output_type": "stream",
          "name": "stdout",
          "text": [
            "Number of Large Baskets:\n",
            "10\n"
          ]
        }
      ]
    },
    {
      "cell_type": "markdown",
      "source": [
        "3. Store Analysis: Identify stores with the highest number of large-basket buyers."
      ],
      "metadata": {
        "id": "dx41bGLScT6J"
      }
    },
    {
      "cell_type": "code",
      "source": [
        "# Group by StoreID and count the number of large baskets in each store (PROJECT 3)\n",
        "large_basket_stores = sales_data[sales_data['CustomerID'].isin(basket_sizes[basket_sizes > large_basket_threshold].index)]\n",
        "store_large_basket_counts = large_basket_stores['StoreID'].value_counts()\n",
        "\n",
        "# Display the stores with large-basket buyers\n",
        "print(\"Stores with Large-Basket Buyers:\")\n",
        "print(store_large_basket_counts)"
      ],
      "metadata": {
        "colab": {
          "base_uri": "https://localhost:8080/"
        },
        "id": "2lZosn5IYIB1",
        "outputId": "1ee916d3-c3e6-41c4-eef8-14f501940cd9"
      },
      "execution_count": 14,
      "outputs": [
        {
          "output_type": "stream",
          "name": "stdout",
          "text": [
            "Stores with Large-Basket Buyers:\n",
            "StoreID\n",
            "7     107\n",
            "52    107\n",
            "93    105\n",
            "61    105\n",
            "77    104\n",
            "     ... \n",
            "44     75\n",
            "65     75\n",
            "8      75\n",
            "76     74\n",
            "20     70\n",
            "Name: count, Length: 100, dtype: int64\n"
          ]
        }
      ]
    },
    {
      "cell_type": "markdown",
      "source": [
        "4. Plot Top Stores with Large-Basket Buyers: Visualize the top stores with large-basket buyers."
      ],
      "metadata": {
        "id": "3hKEv7Prcf2b"
      }
    },
    {
      "cell_type": "code",
      "source": [
        "import matplotlib.pyplot as plt\n",
        "\n",
        "# Plot the top stores with large-basket buyers (PROJECT 3)\n",
        "store_large_basket_counts.head(10).plot(kind='bar')\n",
        "plt.title('Top Stores with Large-Basket Buyers')\n",
        "plt.xlabel('StoreID')\n",
        "plt.ylabel('Number of Large Baskets')\n",
        "plt.show()"
      ],
      "metadata": {
        "colab": {
          "base_uri": "https://localhost:8080/",
          "height": 475
        },
        "id": "iDIKaDHyYKrl",
        "outputId": "1cb3cdf4-a6e0-4421-b696-a09b5a654400"
      },
      "execution_count": 15,
      "outputs": [
        {
          "output_type": "display_data",
          "data": {
            "text/plain": [
              "<Figure size 640x480 with 1 Axes>"
            ],
            "image/png": "[encoded data removed]"
          },
          "metadata": {}
        }
      ]
    },
    {
      "cell_type": "markdown",
      "source": [
        "5. Analysis of Products in Large Baskets"
      ],
      "metadata": {
        "id": "CprEelngcjd2"
      }
    },
    {
      "cell_type": "code",
      "source": [
        "# Get the products in large baskets (PROJECT 3)\n",
        "large_basket_products = large_basket_stores['Product Name'].value_counts()\n",
        "\n",
        "# Display the top-N products\n",
        "top_n = 10\n",
        "print(\"Top Products in Large Baskets:\")\n",
        "print(large_basket_products.head(top_n))"
      ],
      "metadata": {
        "colab": {
          "base_uri": "https://localhost:8080/"
        },
        "id": "lQsDomUfYPUS",
        "outputId": "88f7917e-5e77-4cf0-da44-37a8d92c499e"
      },
      "execution_count": 16,
      "outputs": [
        {
          "output_type": "stream",
          "name": "stdout",
          "text": [
            "Top Products in Large Baskets:\n",
            "Product Name\n",
            "Veggie         1176\n",
            "Pepperoni      1143\n",
            "Margherita     1136\n",
            "Meat Lovers    1124\n",
            "Hawaiian       1117\n",
            "BBQ Chicken    1107\n",
            "Supreme        1097\n",
            "Cheese         1097\n",
            "Name: count, dtype: int64\n"
          ]
        }
      ]
    },
    {
      "cell_type": "markdown",
      "source": [
        "6. Analysis of Basket Makeup"
      ],
      "metadata": {
        "id": "H3LidN1kcnN6"
      }
    },
    {
      "cell_type": "code",
      "source": [
        "# Group by CustomerID and get the average basket makeup\n",
        "basket_makeup = sales_data.groupby('CustomerID')['Product Name'].apply(lambda x: x.value_counts(normalize=True))\n",
        "\n",
        "# Display the average categorical makeup of baskets\n",
        "print(\"Average Categorical Makeup of Baskets:\")\n",
        "print(basket_makeup.head())"
      ],
      "metadata": {
        "colab": {
          "base_uri": "https://localhost:8080/"
        },
        "id": "evqvq0Z8YoRk",
        "outputId": "85cd0005-c85f-477d-96a8-37f934da3cf5"
      },
      "execution_count": 17,
      "outputs": [
        {
          "output_type": "stream",
          "name": "stdout",
          "text": [
            "Average Categorical Makeup of Baskets:\n",
            "CustomerID             \n",
            "0           Pepperoni      0.148649\n",
            "            Veggie         0.137387\n",
            "            Cheese         0.131757\n",
            "            Hawaiian       0.130631\n",
            "            Meat Lovers    0.120495\n",
            "Name: Product Name, dtype: float64\n"
          ]
        }
      ]
    },
    {
      "cell_type": "markdown",
      "source": [
        "7. Plot Basket Makeup: Visualize the average categorical makeup of baskets."
      ],
      "metadata": {
        "id": "g1CoD2z3cp0j"
      }
    },
    {
      "cell_type": "code",
      "source": [
        "# Plot the categorical makeup of baskets\n",
        "basket_makeup_df = basket_makeup.unstack().mean().sort_values(ascending=False)\n",
        "basket_makeup_df.plot(kind='bar')\n",
        "plt.title('Average Categorical Makeup of Baskets')\n",
        "plt.xlabel('Product Name')\n",
        "plt.ylabel('Average Proportion in Basket')\n",
        "plt.show()"
      ],
      "metadata": {
        "colab": {
          "base_uri": "https://localhost:8080/",
          "height": 547
        },
        "id": "U3THPUYjYrUE",
        "outputId": "0f9ec09a-5239-4a6d-f9b1-bc6c05fd7c2d"
      },
      "execution_count": 18,
      "outputs": [
        {
          "output_type": "display_data",
          "data": {
            "text/plain": [
              "<Figure size 640x480 with 1 Axes>"
            ],
            "image/png": "[encoded data removed]"
          },
          "metadata": {}
        }
      ]
    },
    {
      "cell_type": "markdown",
      "source": [
        "8. Market Basket Analysis"
      ],
      "metadata": {
        "id": "0SHx3UMnc9wl"
      }
    },
    {
      "cell_type": "code",
      "source": [
        "from mlxtend.frequent_patterns import apriori, association_rules\n",
        "\n",
        "# Create a basket for each store\n",
        "basket = (sales_data.groupby(['StoreID', 'OrderID', 'Product Name'])['Product Name']\n",
        "          .count().unstack().reset_index().fillna(0)\n",
        "          .set_index(['StoreID', 'OrderID']))\n",
        "\n",
        "# Convert the values to 1 and 0\n",
        "def encode_units(x):\n",
        "    return 1 if x >= 1 else 0\n",
        "\n",
        "basket_sets = basket.applymap(encode_units)\n",
        "\n",
        "# Perform market basket analysis using the Apriori algorithm\n",
        "frequent_itemsets = apriori(basket_sets, min_support=0.01, use_colnames=True)\n",
        "\n",
        "# Generate the association rules, specifying num_itemsets\n",
        "rules = association_rules(frequent_itemsets, metric=\"lift\", min_threshold=1, support_only=False, num_itemsets=frequent_itemsets['itemsets'].apply(len))\n",
        "# Display the most frequently occurring itemsets\n",
        "print(frequent_itemsets.sort_values(by='support', ascending=False).head())\n",
        "\n",
        "# Display the association rules\n",
        "print(rules.head())"
      ],
      "metadata": {
        "colab": {
          "base_uri": "https://localhost:8080/"
        },
        "id": "JfIrL5NoYuV1",
        "outputId": "a1fb170f-dbcc-4c8f-e088-a0327652e5b5"
      },
      "execution_count": 23,
      "outputs": [
        {
          "output_type": "stream",
          "name": "stdout",
          "text": [
            "    support      itemsets\n",
            "7  0.990000      (Veggie)\n",
            "2  0.983333    (Hawaiian)\n",
            "3  0.983333  (Margherita)\n",
            "6  0.983333     (Supreme)\n",
            "1  0.983333      (Cheese)\n",
            "             antecedents            consequents  antecedent support  \\\n",
            "0          (Meat Lovers)          (BBQ Chicken)            0.980000   \n",
            "1          (BBQ Chicken)          (Meat Lovers)            0.966667   \n",
            "2  (Meat Lovers, Cheese)          (BBQ Chicken)            0.963333   \n",
            "3  (BBQ Chicken, Cheese)          (Meat Lovers)            0.950000   \n",
            "4          (Meat Lovers)  (BBQ Chicken, Cheese)            0.980000   \n",
            "\n",
            "   consequent support   support  confidence      lift  representativity  \\\n",
            "0            0.966667  0.950000    0.969388  1.002815               1.0   \n",
            "1            0.980000  0.950000    0.982759  1.002815               1.0   \n",
            "2            0.966667  0.933333    0.968858  1.002267               1.0   \n",
            "3            0.980000  0.933333    0.982456  1.002506               1.0   \n",
            "4            0.950000  0.933333    0.952381  1.002506               1.0   \n",
            "\n",
            "   leverage  conviction  zhangs_metric   jaccard  certainty  kulczynski  \n",
            "0  0.002667    1.088889       0.140351  0.953177   0.081633    0.976073  \n",
            "1  0.002667    1.160000       0.084211  0.953177   0.137931    0.976073  \n",
            "2  0.002111    1.070370       0.061688  0.936455   0.065744    0.967188  \n",
            "3  0.002333    1.140000       0.050000  0.936455   0.122807    0.967419  \n",
            "4  0.002333    1.050000       0.125000  0.936455   0.047619    0.967419  \n"
          ]
        },
        {
          "output_type": "stream",
          "name": "stderr",
          "text": [
            "/usr/local/lib/python3.10/dist-packages/ipykernel/ipkernel.py:283: DeprecationWarning: `should_run_async` will not call `transform_cell` automatically in the future. Please pass the result to `transformed_cell` argument and any exception that happen during thetransform in `preprocessing_exc_tuple` in IPython 7.17 and above.\n",
            "  and should_run_async(code)\n",
            "<ipython-input-23-2ba1fc29c1ab>:12: FutureWarning: DataFrame.applymap has been deprecated. Use DataFrame.map instead.\n",
            "  basket_sets = basket.applymap(encode_units)\n",
            "/usr/local/lib/python3.10/dist-packages/mlxtend/frequent_patterns/fpcommon.py:161: DeprecationWarning: DataFrames with non-bool types result in worse computationalperformance and their support might be discontinued in the future.Please use a DataFrame with bool type\n",
            "  warnings.warn(\n"
          ]
        }
      ]
    }
  ]
}